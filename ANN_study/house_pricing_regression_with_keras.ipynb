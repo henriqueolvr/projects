{
 "cells": [
  {
   "cell_type": "code",
   "execution_count": null,
   "metadata": {},
   "outputs": [],
   "source": [
    "from sklearn.datasets import fetch_california_housing\n",
    "from sklearn.model_selection import train_test_split\n",
    "from sklearn.preprocessing import StandardScaler\n",
    "import numpy as np\n",
    "import pandas as pd\n",
    "import matplotlib.pyplot as plt\n",
    "import tensorflow as tf\n",
    "from tensorflow import keras"
   ]
  },
  {
   "attachments": {},
   "cell_type": "markdown",
   "metadata": {},
   "source": [
    "https://inria.github.io/scikit-learn-mooc/python_scripts/datasets_california_housing.html"
   ]
  },
  {
   "cell_type": "code",
   "execution_count": 2,
   "metadata": {},
   "outputs": [],
   "source": [
    "housing = fetch_california_housing()\n",
    "\n",
    "X_train_full, X_test, y_train_full, y_test = train_test_split(\n",
    "    housing.data, housing.target)\n",
    "X_train, X_valid, y_train, y_valid = train_test_split(\n",
    "    X_train_full, y_train_full)\n",
    "\n",
    "scaler = StandardScaler()\n",
    "X_train_scaled = scaler.fit_transform(X_train)\n",
    "X_valid_scaled = scaler.transform(X_valid)\n",
    "X_test_scaled = scaler.transform(X_test)"
   ]
  },
  {
   "cell_type": "code",
   "execution_count": 3,
   "metadata": {},
   "outputs": [
    {
     "name": "stderr",
     "output_type": "stream",
     "text": [
      "2023-01-11 19:46:02.388677: W tensorflow/stream_executor/platform/default/dso_loader.cc:64] Could not load dynamic library 'libcuda.so.1'; dlerror: libcuda.so.1: cannot open shared object file: No such file or directory\n",
      "2023-01-11 19:46:02.388724: W tensorflow/stream_executor/cuda/cuda_driver.cc:269] failed call to cuInit: UNKNOWN ERROR (303)\n",
      "2023-01-11 19:46:02.388746: I tensorflow/stream_executor/cuda/cuda_diagnostics.cc:156] kernel driver does not appear to be running on this host (icunicamp-Vostro-3500-02): /proc/driver/nvidia/version does not exist\n",
      "2023-01-11 19:46:02.389022: I tensorflow/core/platform/cpu_feature_guard.cc:151] This TensorFlow binary is optimized with oneAPI Deep Neural Network Library (oneDNN) to use the following CPU instructions in performance-critical operations:  AVX2 AVX512F FMA\n",
      "To enable them in other operations, rebuild TensorFlow with the appropriate compiler flags.\n"
     ]
    }
   ],
   "source": [
    "model = keras.models.Sequential([\n",
    "    keras.layers.Dense(50, activation=\"relu\", input_shape=X_train_scaled.shape[1:]),\n",
    "    keras.layers.Dense(1)\n",
    "])"
   ]
  },
  {
   "cell_type": "code",
   "execution_count": 4,
   "metadata": {},
   "outputs": [],
   "source": [
    "model.compile(loss=\"mean_squared_error\", optimizer=\"sgd\")"
   ]
  },
  {
   "cell_type": "code",
   "execution_count": 5,
   "metadata": {},
   "outputs": [
    {
     "name": "stdout",
     "output_type": "stream",
     "text": [
      "Epoch 1/20\n",
      "363/363 [==============================] - 0s 691us/step - loss: 0.9910 - val_loss: 0.6596\n",
      "Epoch 2/20\n",
      "363/363 [==============================] - 0s 527us/step - loss: 0.5316 - val_loss: 0.5220\n",
      "Epoch 3/20\n",
      "363/363 [==============================] - 0s 522us/step - loss: 0.4570 - val_loss: 0.5144\n",
      "Epoch 4/20\n",
      "363/363 [==============================] - 0s 521us/step - loss: 0.4415 - val_loss: 0.4703\n",
      "Epoch 5/20\n",
      "363/363 [==============================] - 0s 762us/step - loss: 0.4229 - val_loss: 0.4658\n",
      "Epoch 6/20\n",
      "363/363 [==============================] - 0s 518us/step - loss: 0.4151 - val_loss: 0.4619\n",
      "Epoch 7/20\n",
      "363/363 [==============================] - 0s 525us/step - loss: 0.4083 - val_loss: 0.4542\n",
      "Epoch 8/20\n",
      "363/363 [==============================] - 0s 532us/step - loss: 0.4028 - val_loss: 0.4446\n",
      "Epoch 9/20\n",
      "363/363 [==============================] - 0s 527us/step - loss: 0.3975 - val_loss: 0.4448\n",
      "Epoch 10/20\n",
      "363/363 [==============================] - 0s 515us/step - loss: 0.3926 - val_loss: 0.4413\n",
      "Epoch 11/20\n",
      "363/363 [==============================] - 0s 522us/step - loss: 0.3884 - val_loss: 0.4319\n",
      "Epoch 12/20\n",
      "363/363 [==============================] - 0s 523us/step - loss: 0.3840 - val_loss: 0.4624\n",
      "Epoch 13/20\n",
      "363/363 [==============================] - 0s 515us/step - loss: 0.3804 - val_loss: 0.4269\n",
      "Epoch 14/20\n",
      "363/363 [==============================] - 0s 581us/step - loss: 0.3780 - val_loss: 0.4254\n",
      "Epoch 15/20\n",
      "363/363 [==============================] - 0s 553us/step - loss: 0.3741 - val_loss: 0.4215\n",
      "Epoch 16/20\n",
      "363/363 [==============================] - 0s 522us/step - loss: 0.3713 - val_loss: 0.4408\n",
      "Epoch 17/20\n",
      "363/363 [==============================] - 0s 532us/step - loss: 0.3721 - val_loss: 0.4178\n",
      "Epoch 18/20\n",
      "363/363 [==============================] - 0s 540us/step - loss: 0.3667 - val_loss: 0.4171\n",
      "Epoch 19/20\n",
      "363/363 [==============================] - 0s 628us/step - loss: 0.3632 - val_loss: 0.4133\n",
      "Epoch 20/20\n",
      "363/363 [==============================] - 0s 602us/step - loss: 0.3634 - val_loss: 0.4229\n"
     ]
    }
   ],
   "source": [
    "history = model.fit(X_train_scaled, y_train, epochs=20,\n",
    "                    validation_data=(X_valid_scaled, y_valid))"
   ]
  },
  {
   "cell_type": "code",
   "execution_count": 6,
   "metadata": {},
   "outputs": [
    {
     "name": "stdout",
     "output_type": "stream",
     "text": [
      "162/162 [==============================] - 0s 385us/step - loss: 0.3597\n"
     ]
    }
   ],
   "source": [
    "mse_test = model.evaluate(X_test_scaled, y_test)\n",
    "\n",
    "X_new = X_test_scaled[:3] # pretend these are new instances\n",
    "\n",
    "y_pred = model.predict(X_new)"
   ]
  },
  {
   "cell_type": "code",
   "execution_count": 7,
   "metadata": {},
   "outputs": [
    {
     "data": {
      "text/plain": [
       "array([[2.731179 ],\n",
       "       [2.0391135],\n",
       "       [2.139136 ]], dtype=float32)"
      ]
     },
     "execution_count": 7,
     "metadata": {},
     "output_type": "execute_result"
    }
   ],
   "source": [
    "y_pred"
   ]
  },
  {
   "cell_type": "code",
   "execution_count": null,
   "metadata": {},
   "outputs": [],
   "source": []
  }
 ],
 "metadata": {
  "kernelspec": {
   "display_name": "Python 3",
   "language": "python",
   "name": "python3"
  },
  "language_info": {
   "codemirror_mode": {
    "name": "ipython",
    "version": 3
   },
   "file_extension": ".py",
   "mimetype": "text/x-python",
   "name": "python",
   "nbconvert_exporter": "python",
   "pygments_lexer": "ipython3",
   "version": "3.8.10 (default, Nov 14 2022, 12:59:47) \n[GCC 9.4.0]"
  },
  "orig_nbformat": 4,
  "vscode": {
   "interpreter": {
    "hash": "916dbcbb3f70747c44a77c7bcd40155683ae19c65e1c03b4aa3499c5328201f1"
   }
  }
 },
 "nbformat": 4,
 "nbformat_minor": 2
}
